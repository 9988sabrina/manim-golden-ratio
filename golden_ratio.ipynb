%%manim -qm GoldenRatioVisualization

from manim import *

class GoldenRatioVisualization(Scene):
    def construct(self):
        title = Text("The Golden Ratio (𝜙 ≈ 1.618)", font_size=48, color=YELLOW)
        title.to_edge(UP, buff=0.5)
        self.play(Write(title))

        narration1 = Paragraph(
            "The Golden Ratio, or phi (𝜙), is a special number approximately equal to 1.618.",
            width=6, font_size=24
        )
        narration1.to_edge(DOWN, buff=0.5)
        self.play(Write(narration1))

        A = Dot(LEFT * 3)
        B = Dot(RIGHT * 3)
        AB = Line(A.get_center(), B.get_center())
        label_A = Text("A", font_size=24).next_to(A, DOWN)
        label_B = Text("B", font_size=24).next_to(B, DOWN)

        group_AB = VGroup(AB, A, B, label_A, label_B)
        group_AB.scale(0.9)
        self.play(Create(AB), FadeIn(A), FadeIn(B), Write(label_A), Write(label_B))

        self.play(FadeOut(narration1))
        narration2 = Paragraph(
            "If you divide a line so that the ratio of the whole line to the longer part",
            "is the same as the ratio of the longer part to the shorter part,",
            "you get the Golden Ratio.",
            width=6, font_size=24
        )
        narration2.to_edge(DOWN, buff=0.5)
        self.play(Write(narration2))

        golden_ratio = 1.618
        total_length = 6
        long_part = total_length / (1 + 1/golden_ratio)
        C_pos = A.get_center() + RIGHT * long_part
        C = Dot(C_pos, color=BLUE)
        label_C = Text("C", font_size=24).next_to(C, DOWN)
        AC = Line(A.get_center(), C_pos, color=BLUE)
        CB = Line(C_pos, B.get_center(), color=GREEN)

        group_segments = VGroup(AC, CB, C, label_C)
        self.play(Create(AC), Create(CB), FadeIn(C), Write(label_C))

        self.play(FadeOut(narration2))
        narration3 = Paragraph(
            "Here, AC is the longer segment and CB is the shorter.",
            "Notice how AB / AC = AC / CB ≈ 1.618.",
            width=6, font_size=24
        )
        narration3.to_edge(DOWN, buff=0.5)
        self.play(Write(narration3))

        ratio1 = MathTex(r"\frac{AB}{AC} \approx 1.618", font_size=36)
        ratio2 = MathTex(r"\frac{AC}{CB} \approx 1.618", font_size=36)
        ratio1.next_to(group_AB, UP, buff=0.5)
        ratio2.next_to(ratio1, DOWN)

        self.play(Write(ratio1), Write(ratio2))

        self.play(FadeOut(narration3))
        narration4 = Paragraph(
            "The Golden Ratio appears in nature, art, architecture, and even galaxies.",
            width=6, font_size=24
        )
        narration4.to_edge(DOWN, buff=0.5)
        self.play(Write(narration4))

        self.wait(2)
        golden_rect = Rectangle(width=golden_ratio * 2, height=2, color=ORANGE)
        golden_rect.shift(DOWN * 2)
        golden_text = Text("Golden Rectangle", font_size=24).next_to(golden_rect, DOWN)
        self.play(Create(golden_rect), Write(golden_text))

        self.wait(3)
        self.play(*[FadeOut(mob) for mob in self.mobjects])
