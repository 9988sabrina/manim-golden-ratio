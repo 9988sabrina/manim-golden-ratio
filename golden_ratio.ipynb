{
  "nbformat": 4,
  "nbformat_minor": 0,
  "metadata": {
    "colab": {
      "provenance": []
    },
    "kernelspec": {
      "name": "python3",
      "display_name": "Python 3"
    },
    "language_info": {
      "name": "python"
    }
  },
  "cells": [
    {
      "cell_type": "code",
      "execution_count": null,
      "metadata": {
        "id": "ES-Ib0sLfXS-"
      },
      "outputs": [],
      "source": [
        "%%manim -qm GoldenRatioVisualization\n",
        "\n",
        "from manim import *\n",
        "\n",
        "class GoldenRatioVisualization(Scene):\n",
        "    def construct(self):\n",
        "        title = Text(\"The Golden Ratio (𝜙 ≈ 1.618)\", font_size=48, color=YELLOW)\n",
        "        title.to_edge(UP, buff=0.5)\n",
        "        self.play(Write(title))\n",
        "        self.wait(1)\n",
        "\n",
        "        A = Dot(LEFT * 3)\n",
        "        B = Dot(RIGHT * 3)\n",
        "        AB = Line(A.get_center(), B.get_center())\n",
        "        label_A = Text(\"A\", font_size=24).next_to(A, DOWN)\n",
        "        label_B = Text(\"B\", font_size=24).next_to(B, DOWN)\n",
        "        self.play(Create(AB), FadeIn(A), FadeIn(B), Write(label_A), Write(label_B))\n",
        "        self.wait(1)\n",
        "\n",
        "        golden_ratio = 1.618\n",
        "        total_length = 6\n",
        "        long_part = total_length / (1 + 1 / golden_ratio)\n",
        "        C_pos = A.get_center() + RIGHT * long_part\n",
        "        C = Dot(C_pos, color=BLUE)\n",
        "        label_C = Text(\"C\", font_size=24).next_to(C, DOWN)\n",
        "        AC = Line(A.get_center(), C_pos, color=BLUE)\n",
        "        CB = Line(C_pos, B.get_center(), color=GREEN)\n",
        "        self.play(Create(AC), FadeIn(C), Write(label_C))\n",
        "        self.wait(1)\n",
        "        self.play(Create(CB))\n",
        "        self.wait(1)\n",
        "\n",
        "        ratio1 = MathTex(r\"\\frac{AB}{AC} \\approx 1.618\", font_size=36)\n",
        "        ratio2 = MathTex(r\"\\frac{AC}{CB} \\approx 1.618\", font_size=36)\n",
        "        ratio1.next_to(AB, UP, buff=0.5)\n",
        "        ratio2.next_to(ratio1, DOWN, buff=0.25)\n",
        "        self.play(Write(ratio1))\n",
        "        self.wait(1)\n",
        "        self.play(Write(ratio2))\n",
        "        self.wait(2)\n",
        "\n",
        "        golden_rect = Rectangle(width=golden_ratio * 2, height=2, color=ORANGE)\n",
        "        golden_rect.shift(DOWN * 2)\n",
        "        golden_text = Text(\"Golden Rectangle\", font_size=24).next_to(golden_rect, DOWN)\n",
        "        self.play(Create(golden_rect), Write(golden_text))\n",
        "        self.wait(3)\n",
        "\n",
        "        self.play(*[FadeOut(mob) for mob in self.mobjects])\n"
      ]
    },
    {
      "cell_type": "code",
      "source": [],
      "metadata": {
        "id": "lcPb0FrggwHI"
      },
      "execution_count": null,
      "outputs": []
    }
  ]
}